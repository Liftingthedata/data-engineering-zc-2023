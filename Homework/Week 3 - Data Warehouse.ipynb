{
 "cells": [
  {
   "attachments": {},
   "cell_type": "markdown",
   "metadata": {},
   "source": [
    "# Week 3 - Data Warehouse"
   ]
  },
  {
   "attachments": {},
   "cell_type": "markdown",
   "metadata": {},
   "source": [
    "**Setup**\n",
    "\n",
    "* Create an external table using the FHV tripdata from year 2019.\n",
    "* Create a table in BigQuery using the FHV tripdata from year 2019 (do not partition nor cluster this table).\n",
    "\n",
    "Answer:\n",
    "1. Create an external table using the data\n",
    "```sql\n",
    "CREATE OR REPLACE EXTERNAL TABLE `stellarismusv2.trips.fhv_tripdata_ext`\n",
    "OPTIONS (\n",
    "  format = 'CSV',\n",
    "  uris = ['gs://raw-a43b47dc95/fhv/*.csv.gz']\n",
    ");\n",
    "```\n",
    "\n",
    "2. Create a table in BigQuery using the FHV tripdata from year 2019\n",
    "\n",
    "```sql\n",
    "CREATE OR REPLACE TABLE `stellarismusv2.trips.fhv_tripdata` AS\n",
    "SELECT * FROM `stellarismusv2.trips.fhv_tripdata_ext`;\n",
    "```"
   ]
  },
  {
   "attachments": {},
   "cell_type": "markdown",
   "metadata": {},
   "source": [
    "**Question 1. What is the count for the FHV tripdata records for year 2019?**\n",
    "- 65,623,481\n",
    "- 43,244,696\n",
    "- 22,978,333\n",
    "- 13,942,414\n",
    "Answer:\n",
    "```sql\n",
    "SELECT     COUNT(1)\n",
    "FROM       `stellarismusv2.trips.fhv_tripdata`;\n",
    ">> 43244696\n",
    "```"
   ]
  },
  {
   "attachments": {},
   "cell_type": "markdown",
   "metadata": {},
   "source": [
    "**Question 2. Write a query to count the number of distinct values in affiliated_base_number column for the entire dataset on both the tables. What is the estimated amount of data that will be read when this query is executed on the External Table and the Table?**\n",
    "- 25.2 MB for the External Table and 100.87MB for the BQ Table\n",
    "- 225.82 MB for the External Table and 47.60MB for the BQ Table\n",
    "- 0 MB for the External Table and 0MB for the BQ Table\n",
    "- 0 MB for the External Table and 317.94MB for the BQ Table \n",
    "Answer:\n",
    "\n",
    "- External Table:\n",
    "```sql\n",
    "SELECT     COUNT(DISTINCT(Affiliated_base_number))\n",
    "FROM       `stellarismusv2.trips.fhv_tripdata_ext`;\n",
    ">> Bytes processed : 0 B (results cached)\n",
    "```\n",
    "- Native Table: \n",
    "```sql\n",
    "SELECT     COUNT(DISTINCT(Affiliated_base_number))\n",
    "FROM       `stellarismusv2.trips.fhv_tripdata`;\n",
    ">> Bytes processed : 317.94 MB\n",
    "```"
   ]
  },
  {
   "attachments": {},
   "cell_type": "markdown",
   "metadata": {},
   "source": [
    "**Question 3. How many records have both NULL *PUlocationID* and *DOlocationID* in the entire dataset?**\n",
    "* 717,748\n",
    "* 1,215,687\n",
    "* 5\n",
    "* 20,332\n",
    "\n",
    "Answer:\n",
    "\n",
    "```sql\n",
    "SELECT     COUNT(1)\n",
    "FROM       `stellarismusv2.trips.fhv_tripdata`\n",
    "WHERE      PUlocationID IS NULL\n",
    "           AND DOlocationID IS NULL;\n",
    ">> 717748\n",
    "```"
   ]
  },
  {
   "attachments": {},
   "cell_type": "markdown",
   "metadata": {},
   "source": [
    "**Question 4. What is the best strategy to optimize the table if query always filter by pickup_datetime and order by affiliated_base_number?**\n",
    "- Cluster on pickup_datetime Cluster on affiliated_base_number\n",
    "- Partition by pickup_datetime Cluster on affiliated_base_number\n",
    "- Partition by pickup_datetime Partition by affiliated_base_number\n",
    "- Partition by affiliated_base_number Cluster on pickup_datetime\n",
    "\n",
    "**Answer:** Partition by pickup_datetime Cluster on affiliated_base_number\n",
    "Always partition on date and cluster for optimization. "
   ]
  },
  {
   "cell_type": "markdown",
   "metadata": {},
   "source": [
    "\n",
    "**Question 5. Implement the optimized solution you chose for question 4. Write a query to retrieve the distinct affiliated_base_number between pickup_datetime 2019/03/01 and 2019/03/31 (inclusive).**\n",
    "Use the BQ table you created earlier in your from clause and note the estimated bytes. Now change the table in the from clause to the partitioned table you created for question 4 and note the estimated bytes processed. What are these values? Choose the answer which most closely matches.\n",
    "- 12.82 MB for non-partitioned table and 647.87 MB for the partitioned table\n",
    "- 647.87 MB for non-partitioned table and 23.06 MB for the partitioned table\n",
    "- 582.63 MB for non-partitioned table and 0 MB for the partitioned table\n",
    "- 646.25 MB for non-partitioned table and 646.25 MB for the partitioned table\n",
    "\n",
    "Answer:\n",
    "\n",
    "1. Create a partitioned and clustered table\n",
    "\n",
    "\n",
    "```sql\n",
    "CREATE OR REPLACE TABLE `stellarismusv2.trips.fhv_tripdata_optimized`\n",
    "PARTITION BY DATE(pickup_datetime)\n",
    "CLUSTER BY affiliated_base_number AS\n",
    "SELECT * FROM `stellarismusv2.trips.fhv_tripdata_ext`;\n",
    "```  \n",
    "2. Scan Non-Optimized Table\n",
    "\n",
    "```sql\n",
    "SELECT COUNT(DISTINCT affiliated_base_number) FROM `stellarismusv2.trips.fhv_tripdata`\n",
    "WHERE pickup_datetime BETWEEN \"2019-03-01\" AND \"2019-03-31\";\n",
    ">> 647.87 MB\n",
    "```  \n",
    "3. Scan Optimized Table\n",
    "```sql\n",
    "SELECT COUNT(DISTINCT affiliated_base_number) FROM `stellarismusv2.trips.fhv_tripdata_optimized`\n",
    "WHERE pickup_datetime BETWEEN \"2019-03-01\" AND \"2019-03-31\";\n",
    ">> 23.05 MB\n",
    "```           "
   ]
  },
  {
   "attachments": {},
   "cell_type": "markdown",
   "metadata": {},
   "source": [
    "**Question 6. Where is the data stored in the External Table you have created?**\n",
    "- Big Query\n",
    "- GCP Bucket\n",
    "- Container Registry\n",
    "- Big Table\n",
    "\n",
    "**Answer:** GCP Bucket.\n",
    "\n"
   ]
  },
  {
   "cell_type": "markdown",
   "metadata": {},
   "source": [
    "**Question 7. Is it true, that you should always cluster your data in BigQuery?**\n",
    "- True\n",
    "- False\n",
    "\n",
    "**Answer:** False. It is an optimization technique with its trade offs. They also slow down loading which is not suitable for staging tables. It depends generally on query patterns, data size, presence of unique values and on need of accurate cost estimates.\n"
   ]
  }
 ],
 "metadata": {
  "kernelspec": {
   "display_name": "Python 3.10.0 64-bit",
   "language": "python",
   "name": "python3"
  },
  "language_info": {
   "codemirror_mode": {
    "name": "ipython",
    "version": 3
   },
   "file_extension": ".py",
   "mimetype": "text/x-python",
   "name": "python",
   "nbconvert_exporter": "python",
   "pygments_lexer": "ipython3",
   "version": "3.10.0"
  },
  "orig_nbformat": 4,
  "vscode": {
   "interpreter": {
    "hash": "767d51c1340bd893661ea55ea3124f6de3c7a262a8b4abca0554b478b1e2ff90"
   }
  }
 },
 "nbformat": 4,
 "nbformat_minor": 2
}
